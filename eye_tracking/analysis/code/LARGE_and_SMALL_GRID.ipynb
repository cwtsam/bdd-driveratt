{
 "cells": [
  {
   "cell_type": "code",
   "execution_count": 1,
   "metadata": {},
   "outputs": [],
   "source": [
    "%load_ext autoreload\n",
    "%autoreload 2\n",
    "%matplotlib ipympl"
   ]
  },
  {
   "cell_type": "code",
   "execution_count": 2,
   "metadata": {},
   "outputs": [],
   "source": [
    "import functions.init_logger\n",
    "import logging\n",
    "logger = logging.getLogger(__name__)\n",
    "logger.setLevel(logging.CRITICAL)"
   ]
  },
  {
   "cell_type": "code",
   "execution_count": 3,
   "metadata": {},
   "outputs": [
    {
     "name": "stderr",
     "output_type": "stream",
     "text": [
      "/net/store/nbp/users/behinger/projects/etcomp/local/etcompvenv/lib/python3.5/importlib/_bootstrap.py:222: RuntimeWarning: numpy.dtype size changed, may indicate binary incompatibility. Expected 96, got 88\n",
      "  return f(*args, **kwds)\n",
      "/net/store/nbp/users/behinger/projects/etcomp/local/etcompvenv/lib/python3.5/importlib/_bootstrap.py:222: RuntimeWarning: numpy.dtype size changed, may indicate binary incompatibility. Expected 96, got 88\n",
      "  return f(*args, **kwds)\n",
      "/net/store/nbp/users/behinger/projects/etcomp/local/etcompvenv/lib/python3.5/importlib/_bootstrap.py:222: RuntimeWarning: numpy.dtype size changed, may indicate binary incompatibility. Expected 96, got 88\n",
      "  return f(*args, **kwds)\n",
      "/net/store/nbp/users/behinger/projects/etcomp/local/etcompvenv/lib/python3.5/importlib/_bootstrap.py:222: RuntimeWarning: numpy.dtype size changed, may indicate binary incompatibility. Expected 96, got 88\n",
      "  return f(*args, **kwds)\n",
      "/net/store/nbp/users/behinger/projects/etcomp/local/etcompvenv/lib/python3.5/importlib/_bootstrap.py:222: RuntimeWarning: numpy.dtype size changed, may indicate binary incompatibility. Expected 96, got 88\n",
      "  return f(*args, **kwds)\n",
      "/net/store/nbp/users/behinger/projects/etcomp/local/etcompvenv/lib/python3.5/importlib/_bootstrap.py:222: RuntimeWarning: numpy.dtype size changed, may indicate binary incompatibility. Expected 96, got 88\n",
      "  return f(*args, **kwds)\n",
      "/net/store/nbp/users/behinger/projects/etcomp/local/etcompvenv/lib/python3.5/importlib/_bootstrap.py:222: RuntimeWarning: numpy.dtype size changed, may indicate binary incompatibility. Expected 96, got 88\n",
      "  return f(*args, **kwds)\n",
      "/home/student/b/behinger/.local/lib/python3.5/site-packages/h5py/__init__.py:36: FutureWarning: Conversion of the second argument of issubdtype from `float` to `np.floating` is deprecated. In future, it will be treated as `np.float64 == np.dtype(float).type`.\n",
      "  from ._conv import register_converters as _register_converters\n"
     ]
    },
    {
     "name": "stdout",
     "output_type": "stream",
     "text": [
      "2018-09-03 14:55:30 - OpenGL.acceleratesupport                                          - INFO     - No OpenGL_accelerate module loaded: No module named 'OpenGL_accelerate'\n",
      "reached exception:pyaudio\n",
      "2018-09-03 14:55:31 - lib.pupil.pupil_src.shared_modules.calibration_routines.optimization_calibration.build - INFO     - Building extension modules...\n",
      "reached exception:optimization_calibration\n",
      "reached exception:glfw.GLFW_PRESS\n",
      "reached exception:glfw.GLFW_KEY_SPACE\n",
      "reached exception:glfw.GLFW_KEY_F\n",
      "reached exception:glfw.glfwSetKeyCallback\n",
      "reached exception:fingertip_calibration\n",
      "reached exception:glfw.GLFW_PRESS\n",
      "reached exception:natural_features_calibration\n",
      "2018-09-03 14:55:31 - lib.pupil.pupil_src.shared_modules.calibration_routines.optimization_calibration.build - INFO     - Building extension modules...\n",
      "reached exception:optimization_calibration\n",
      "2018-09-03 14:55:32 - calibration_routines.optimization_calibration.build               - INFO     - Building extension modules...\n",
      "reached exception:optimization_calibration\n",
      "reached exception:glfw.GLFW_PRESS\n",
      "reached exception:glfw.GLFW_KEY_SPACE\n",
      "reached exception:glfw.GLFW_KEY_F\n",
      "reached exception:glfw.glfwSetKeyCallback\n",
      "reached exception:fingertip_calibration\n",
      "reached exception:glfw.GLFW_PRESS\n",
      "reached exception:natural_features_calibration\n",
      "2018-09-03 14:55:32 - calibration_routines.optimization_calibration.build               - INFO     - Building extension modules...\n",
      "reached exception:optimization_calibration\n"
     ]
    }
   ],
   "source": [
    "import functions.add_path\n",
    "import functions.et_condition_df as condition_df\n",
    "\n",
    "import functions.et_helper as et_helper\n",
    "import functions.plotnine_theme\n",
    "import pandas as pd\n",
    "import numpy as np\n",
    "\n",
    "import matplotlib.pyplot as plt\n",
    "plt.rcParams['figure.figsize'] = [15, 10]\n",
    "from plotnine import *\n",
    "from plotnine.data import *\n",
    "\n",
    "\n",
    "import be_load"
   ]
  },
  {
   "cell_type": "code",
   "execution_count": 4,
   "metadata": {},
   "outputs": [
    {
     "name": "stdout",
     "output_type": "stream",
     "text": [
      "/net/store/nbp/users/behinger/projects/etcomp/lib/pupil/pupil_src/shared_modules/calibration_routines/optimization_calibration\n"
     ]
    }
   ],
   "source": [
    "import os\n",
    "print(os.getcwd())\n",
    "if os.getcwd()[-4:] != 'code':\n",
    "    try:\n",
    "        os.chdir('./code')\n",
    "    except:\n",
    "        os.chdir('/net/store/nbp/users/behinger/projects/etcomp/code')\n"
   ]
  },
  {
   "cell_type": "code",
   "execution_count": 5,
   "metadata": {},
   "outputs": [],
   "source": [
    "import BLINK\n",
    "import SMOOTH\n",
    "import LARGE_GRID\n",
    "import LARGE_and_SMALL_GRID\n",
    "import FREEVIEW\n",
    "import LUM\n",
    "import MICROSACC\n",
    "import CALIBRATION"
   ]
  },
  {
   "cell_type": "code",
   "execution_count": 6,
   "metadata": {},
   "outputs": [
    {
     "name": "stdout",
     "output_type": "stream",
     "text": [
      "warning: removing DC offset of time-points (to semi align eyetrackers t=0)\n",
      "loading subject VP1 with et el\n",
      "loading subject VP1 with et pl\n",
      "loading subject VP2 with et el\n",
      "loading subject VP2 with et pl\n",
      "loading subject VP3 with et el\n",
      "loading subject VP3 with et pl\n",
      "loading subject VP4 with et el\n",
      "loading subject VP4 with et pl\n",
      "loading subject VP11 with et el\n",
      "loading subject VP11 with et pl\n",
      "loading subject VP12 with et el\n",
      "loading subject VP12 with et pl\n",
      "loading subject VP14 with et el\n",
      "loading subject VP14 with et pl\n",
      "loading subject VP15 with et el\n",
      "loading subject VP15 with et pl\n",
      "loading subject VP19 with et el\n",
      "loading subject VP19 with et pl\n",
      "loading subject VP20 with et el\n",
      "loading subject VP20 with et pl\n",
      "loading subject VP22 with et el\n",
      "loading subject VP22 with et pl\n",
      "loading subject VP23 with et el\n",
      "loading subject VP23 with et pl\n",
      "loading subject VP24 with et el\n",
      "loading subject VP24 with et pl\n",
      "loading subject VP25 with et el\n",
      "loading subject VP25 with et pl\n",
      "loading subject VP26 with et el\n",
      "loading subject VP26 with et pl\n",
      "loading subject results with et el\n",
      "File b'/net/store/nbp/projects/etcomp/results/preprocessed/hmmnosmooth_el_cleaned_samples.csv' does not exist\n",
      "warning subject results et el not found\n",
      "loading subject results with et pl\n",
      "File b'/net/store/nbp/projects/etcomp/results/preprocessed/hmmnosmooth_pl_cleaned_samples.csv' does not exist\n",
      "warning subject results et pl not found\n",
      "fixing subject VP1\n",
      "fixing subject VP2\n",
      "fixing subject VP3\n",
      "fixing subject VP4\n",
      "fixing subject VP11\n",
      "fixing subject VP12\n",
      "fixing subject VP14\n",
      "fixing subject VP15\n",
      "fixing subject VP19\n",
      "fixing subject VP20\n",
      "fixing subject VP22\n",
      "fixing subject VP23\n",
      "fixing subject VP24\n",
      "fixing subject VP25\n",
      "fixing subject VP26\n"
     ]
    }
   ],
   "source": [
    "(etsamples_grid,etmsgs_grid,etevents_grid) = be_load.load_data(algorithm='hmmnosmooth_')"
   ]
  },
  {
   "cell_type": "code",
   "execution_count": 7,
   "metadata": {},
   "outputs": [
    {
     "name": "stdout",
     "output_type": "stream",
     "text": [
      "2018-09-03 14:57:47 - functions.et_condition_df                                         - DEBUG    - Data already loaded, just applying transformations\n",
      "2018-09-03 14:57:48 - functions.et_condition_df                                         - CRITICAL - Eyetracker: el    Subject: VP1 \n",
      "2018-09-03 14:57:49 - functions.et_condition_df                                         - CRITICAL - Eyetracker: pl    Subject: VP1 \n",
      "2018-09-03 14:57:50 - functions.et_condition_df                                         - CRITICAL - Eyetracker: el    Subject: VP2 \n",
      "2018-09-03 14:57:51 - functions.et_condition_df                                         - CRITICAL - Eyetracker: pl    Subject: VP2 \n",
      "2018-09-03 14:57:51 - functions.et_condition_df                                         - CRITICAL - Eyetracker: el    Subject: VP3 \n",
      "2018-09-03 14:57:52 - functions.et_condition_df                                         - CRITICAL - Eyetracker: pl    Subject: VP3 \n",
      "2018-09-03 14:57:53 - functions.et_condition_df                                         - CRITICAL - Eyetracker: el    Subject: VP4 \n",
      "2018-09-03 14:57:54 - functions.et_condition_df                                         - CRITICAL - Eyetracker: pl    Subject: VP4 \n",
      "2018-09-03 14:57:55 - functions.et_condition_df                                         - CRITICAL - Eyetracker: el    Subject: VP11 \n",
      "2018-09-03 14:57:56 - functions.et_condition_df                                         - CRITICAL - Eyetracker: pl    Subject: VP11 \n",
      "2018-09-03 14:57:57 - functions.et_condition_df                                         - CRITICAL - Eyetracker: el    Subject: VP12 \n",
      "2018-09-03 14:57:58 - functions.et_condition_df                                         - CRITICAL - Eyetracker: pl    Subject: VP12 \n",
      "2018-09-03 14:57:59 - functions.et_condition_df                                         - CRITICAL - Eyetracker: el    Subject: VP14 \n",
      "2018-09-03 14:57:59 - functions.et_condition_df                                         - CRITICAL - Eyetracker: pl    Subject: VP14 \n",
      "2018-09-03 14:58:00 - functions.et_condition_df                                         - CRITICAL - Eyetracker: el    Subject: VP15 \n",
      "2018-09-03 14:58:01 - functions.et_condition_df                                         - CRITICAL - Eyetracker: pl    Subject: VP15 \n",
      "2018-09-03 14:58:02 - functions.et_condition_df                                         - CRITICAL - Eyetracker: el    Subject: VP19 \n",
      "2018-09-03 14:58:03 - functions.et_condition_df                                         - CRITICAL - Eyetracker: pl    Subject: VP19 \n",
      "2018-09-03 14:58:04 - functions.et_condition_df                                         - CRITICAL - Eyetracker: el    Subject: VP20 \n",
      "2018-09-03 14:58:05 - functions.et_condition_df                                         - CRITICAL - Eyetracker: pl    Subject: VP20 \n",
      "2018-09-03 14:58:06 - functions.et_condition_df                                         - CRITICAL - Eyetracker: el    Subject: VP22 \n",
      "2018-09-03 14:58:07 - functions.et_condition_df                                         - CRITICAL - Eyetracker: pl    Subject: VP22 \n",
      "2018-09-03 14:58:08 - functions.et_condition_df                                         - CRITICAL - Eyetracker: el    Subject: VP23 \n",
      "2018-09-03 14:58:09 - functions.et_condition_df                                         - CRITICAL - Eyetracker: pl    Subject: VP23 \n",
      "2018-09-03 14:58:09 - functions.et_condition_df                                         - CRITICAL - Eyetracker: el    Subject: VP24 \n",
      "2018-09-03 14:58:10 - functions.et_condition_df                                         - CRITICAL - Eyetracker: pl    Subject: VP24 \n",
      "2018-09-03 14:58:11 - functions.et_condition_df                                         - CRITICAL - Eyetracker: el    Subject: VP25 \n",
      "2018-09-03 14:58:12 - functions.et_condition_df                                         - CRITICAL - Eyetracker: pl    Subject: VP25 \n",
      "2018-09-03 14:58:13 - functions.et_condition_df                                         - CRITICAL - Eyetracker: el    Subject: VP26 \n",
      "2018-09-03 14:58:14 - functions.et_condition_df                                         - CRITICAL - Eyetracker: pl    Subject: VP26 \n"
     ]
    }
   ],
   "source": [
    "raw_all_grids_df = condition_df.get_condition_df(data=(etsamples_grid,etmsgs_grid,etevents_grid),condition='LARGE_and_SMALL_GRID')"
   ]
  },
  {
   "cell_type": "code",
   "execution_count": 8,
   "metadata": {},
   "outputs": [],
   "source": [
    "# Rearrange columns for better readability in temporal order of the experiment          \n",
    "condition_list = raw_all_grids_df['condition'].value_counts().index.tolist()\n",
    "condition_list_sorted = ['GRID', 'SMALLGRID_BEFORE', 'SMALLGRID_AFTER']\n",
    "if not set(condition_list).issubset(set(condition_list_sorted)) :\n",
    "    raise ValueError('are you sure everything is okay with the condition reordering?')\n",
    "\n",
    "# Create a categorical type\n",
    "condition_cat = pd.api.types.CategoricalDtype(categories=condition_list_sorted, ordered=True)\n",
    "# Cast the existing categories into the new category. Due to a bug in pandas we need to do this via a string.\n",
    "raw_all_grids_df['condition'] = raw_all_grids_df['condition'].astype(str).astype(condition_cat)"
   ]
  },
  {
   "cell_type": "code",
   "execution_count": 9,
   "metadata": {},
   "outputs": [
    {
     "data": {
      "text/plain": [
       "611.8929999999998"
      ]
     },
     "execution_count": 9,
     "metadata": {},
     "output_type": "execute_result"
    }
   ],
   "source": [
    "raw_all_grids_df.query('condition==\"SMALLGRID_AFTER\"').iloc[0].msg_time"
   ]
  },
  {
   "cell_type": "code",
   "execution_count": 10,
   "metadata": {},
   "outputs": [
    {
     "data": {
      "application/vnd.jupyter.widget-view+json": {
       "model_id": "61ee7bfee047442c9b79e0296ff19690",
       "version_major": 2,
       "version_minor": 0
      },
      "text/plain": [
       "FigureCanvasNbAgg()"
      ]
     },
     "metadata": {},
     "output_type": "display_data"
    },
    {
     "data": {
      "text/plain": [
       "<ggplot: (8756276307541)>"
      ]
     },
     "execution_count": 10,
     "metadata": {},
     "output_type": "execute_result"
    }
   ],
   "source": [
    "(ggplot(raw_all_grids_df.query('condition==\"SMALLGRID_AFTER\"'),aes(x=\"element\",y=\"accuracy\",fill=\"et\"))+\n",
    "     stat_summary(fun_y=np.median,geom='point'))\n",
    " "
   ]
  },
  {
   "cell_type": "code",
   "execution_count": 18,
   "metadata": {},
   "outputs": [],
   "source": [
    "# Get the x and y position of the 13 elements shown in the small Grid condition\n",
    "element_pairs = raw_all_grids_df.query('condition==\"SMALLGRID_BEFORE\"').loc[:,['posx', 'posy']]\n",
    "only_13_elements = pd.merge(raw_all_grids_df, element_pairs, on=['posx', 'posy'], how='inner')\n",
    "\n",
    "# get data grouped\n",
    "agg=[np.mean,np.median]\n",
    "mean_for_each_subject_and_condition = only_13_elements.groupby(['condition','block','subject','et'],as_index=False).agg(agg[0]).groupby(['subject','et','condition'],as_index=False).agg(agg[1])"
   ]
  },
  {
   "cell_type": "code",
   "execution_count": 19,
   "metadata": {},
   "outputs": [],
   "source": [
    "    \n",
    "#mean_for_each_subject_and_condition = et_helper.group_to_level_and_take_mean(only_13_elements, lowestlevel='condition')"
   ]
  },
  {
   "cell_type": "code",
   "execution_count": 20,
   "metadata": {},
   "outputs": [
    {
     "data": {
      "application/vnd.jupyter.widget-view+json": {
       "model_id": "48bf4057c9ac42779a57feb64e8b25d7",
       "version_major": 2,
       "version_minor": 0
      },
      "text/plain": [
       "FigureCanvasNbAgg()"
      ]
     },
     "metadata": {},
     "output_type": "display_data"
    },
    {
     "data": {
      "text/plain": [
       "<ggplot: (-9223363280581706787)>"
      ]
     },
     "execution_count": 20,
     "metadata": {},
     "output_type": "execute_result"
    }
   ],
   "source": [
    " (ggplot(mean_for_each_subject_and_condition,aes(x='condition', y='accuracy', fill='et',group='et')) +\n",
    "              stat_summary(fun_y=np.mean, geom='line',position=position_dodge(width=0.1))+\n",
    "              stat_summary(geom='pointrange',position=position_dodge(width=0.1)) +\n",
    "              #geom_path(aes(group=\"subject\"),data=mean_for_each_subject_and_condition.query(\"et=='Pupil Labs'\"),alpha=0.5,color='blue')+\n",
    "              #geom_path(aes(group=\"subject\"),data=mean_for_each_subject_and_condition.query(\"et=='EyeLink'\"),alpha=0.5,color='red')+\n",
    "              ggtitle('Accuracy in different grid condition based on 13 elements'))"
   ]
  },
  {
   "cell_type": "code",
   "execution_count": null,
   "metadata": {},
   "outputs": [],
   "source": []
  },
  {
   "cell_type": "code",
   "execution_count": null,
   "metadata": {},
   "outputs": [],
   "source": []
  },
  {
   "cell_type": "code",
   "execution_count": null,
   "metadata": {},
   "outputs": [],
   "source": []
  },
  {
   "cell_type": "code",
   "execution_count": null,
   "metadata": {},
   "outputs": [],
   "source": []
  },
  {
   "cell_type": "code",
   "execution_count": null,
   "metadata": {},
   "outputs": [],
   "source": []
  }
 ],
 "metadata": {
  "kernelspec": {
   "display_name": "Python 3",
   "language": "python",
   "name": "python3"
  },
  "language_info": {
   "codemirror_mode": {
    "name": "ipython",
    "version": 3
   },
   "file_extension": ".py",
   "mimetype": "text/x-python",
   "name": "python",
   "nbconvert_exporter": "python",
   "pygments_lexer": "ipython3",
   "version": "3.5.2"
  }
 },
 "nbformat": 4,
 "nbformat_minor": 2
}
